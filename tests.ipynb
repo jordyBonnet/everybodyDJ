{
 "cells": [
  {
   "cell_type": "code",
   "execution_count": 1,
   "metadata": {},
   "outputs": [],
   "source": [
    "import sqlite3"
   ]
  },
  {
   "cell_type": "code",
   "execution_count": 2,
   "metadata": {},
   "outputs": [
    {
     "data": {
      "text/plain": [
       "<sqlite3.Cursor at 0x12a3e39dd40>"
      ]
     },
     "execution_count": 2,
     "metadata": {},
     "output_type": "execute_result"
    }
   ],
   "source": [
    "# run this if table deleted\n",
    "con = sqlite3.connect(\"songs.db\")\n",
    "cur = con.cursor()\n",
    "cur.execute(\"CREATE TABLE songs(title, score)\")"
   ]
  },
  {
   "cell_type": "code",
   "execution_count": 3,
   "metadata": {},
   "outputs": [],
   "source": [
    "# run this to add a new entry a table that already exist\n",
    "con = sqlite3.connect(\"songs.db\")\n",
    "cur = con.cursor()\n",
    "data =[\n",
    "    ('a la queuleuleu', 3),\n",
    "    ('tourner les serviettes', 1),\n",
    "    ('Happy - Pharrell', 5),\n",
    "    ('Beautiful Day - U2', 4),\n",
    "    ('Party Rock Anthem', 3)\n",
    "] \n",
    "cur.executemany(\"INSERT INTO songs VALUES(?, ?)\", data)\n",
    "con.commit()  # Remember to commit the transaction after executing INSERT."
   ]
  },
  {
   "cell_type": "code",
   "execution_count": 4,
   "metadata": {},
   "outputs": [
    {
     "data": {
      "text/plain": [
       "[('Happy - Pharrell', 5),\n",
       " ('Beautiful Day - U2', 4),\n",
       " ('a la queuleuleu', 3),\n",
       " ('Party Rock Anthem', 3),\n",
       " ('tourner les serviettes', 1)]"
      ]
     },
     "execution_count": 4,
     "metadata": {},
     "output_type": "execute_result"
    }
   ],
   "source": [
    "# retrieve all songs\n",
    "con = sqlite3.connect(\"songs.db\")\n",
    "cur = con.cursor()\n",
    "res = cur.execute(\"SELECT * FROM songs ORDER BY score DESC\")\n",
    "lst = res.fetchall()\n",
    "lst"
   ]
  },
  {
   "cell_type": "code",
   "execution_count": 5,
   "metadata": {},
   "outputs": [],
   "source": [
    "con.close()"
   ]
  }
 ],
 "metadata": {
  "kernelspec": {
   "display_name": ".venv",
   "language": "python",
   "name": "python3"
  },
  "language_info": {
   "codemirror_mode": {
    "name": "ipython",
    "version": 3
   },
   "file_extension": ".py",
   "mimetype": "text/x-python",
   "name": "python",
   "nbconvert_exporter": "python",
   "pygments_lexer": "ipython3",
   "version": "3.10.2"
  },
  "orig_nbformat": 4,
  "vscode": {
   "interpreter": {
    "hash": "aec1141e0b266c184a1fda0105019239c4e7989f1e762466d1b5a2b419ce3214"
   }
  }
 },
 "nbformat": 4,
 "nbformat_minor": 2
}
