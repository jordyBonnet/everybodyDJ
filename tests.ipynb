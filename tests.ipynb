{
 "cells": [
  {
   "attachments": {},
   "cell_type": "markdown",
   "metadata": {},
   "source": [
    "# Tests / debug notebook"
   ]
  },
  {
   "attachments": {},
   "cell_type": "markdown",
   "metadata": {},
   "source": [
    "## pylast - LastFM API\n",
    "[GitHub class](https://github.com/pylast/pylast/blob/main/src/pylast/__init__.py)"
   ]
  },
  {
   "cell_type": "code",
   "execution_count": 1,
   "metadata": {},
   "outputs": [],
   "source": [
    "import pylast"
   ]
  },
  {
   "cell_type": "code",
   "execution_count": 2,
   "metadata": {},
   "outputs": [],
   "source": [
    "# You have to have your own unique two values for API_KEY and API_SECRET\n",
    "# Obtain yours from https://www.last.fm/api/account/create for Last.fm\n",
    "API_KEY = \"ff5bb5f50b5f9124103c5f87ffb47da4\"  # this is a sample key\n",
    "API_SECRET = \"1033b32428004de56e78980f44b0d83e\"\n",
    "\n",
    "# In order to perform a write operation you need to authenticate yourself\n",
    "username = \"jordyBo\"\n",
    "password_hash = pylast.md5(\"^fn?YcSj$?)AZ8a\")\n",
    "\n",
    "network = pylast.LastFMNetwork(\n",
    "    api_key=API_KEY,\n",
    "    api_secret=API_SECRET,\n",
    "    username=username,\n",
    "    password_hash=password_hash,\n",
    ")"
   ]
  },
  {
   "cell_type": "code",
   "execution_count": 10,
   "metadata": {},
   "outputs": [
    {
     "data": {
      "text/plain": [
       "'The Nomad'"
      ]
     },
     "execution_count": 10,
     "metadata": {},
     "output_type": "execute_result"
    }
   ],
   "source": [
    "track = network.get_track(\"Iron Maiden\", \"The Nomad\")\n",
    "track.get_title()"
   ]
  },
  {
   "cell_type": "code",
   "execution_count": 184,
   "metadata": {},
   "outputs": [
    {
     "name": "stdout",
     "output_type": "stream",
     "text": [
      "SZA - Kill Bill, SZA - SOS\n",
      "pinkpantheress - Boy's a liar Pt. 2, None\n",
      "Miley Cyrus - Flowers, Miley Cyrus - Flowers\n",
      "Harry Styles - As It Was, Harry Styles - Harry’s House\n",
      "Taylor Swift - Anti-Hero, Taylor Swift - Midnights [Clean]\n",
      "The Weeknd - Die For You, None\n",
      "Frank Ocean - Pink + White, Frank Ocean - Blonde\n",
      "Steve Lacy - Bad Habit, Steve Lacy - Gemini Rights\n",
      "Metro Boomin - Creepin' (with The Weeknd & 21 Savage), Metro Boomin - Heroes & Villains\n",
      "NewJeans - OMG, NewJeans - OMG\n"
     ]
    }
   ],
   "source": [
    "for track in network.get_top_tracks()[:10]:\n",
    "    track = track.item\n",
    "    print(f'{track.get_artist()} - {track.get_title()}, {track.get_album()}')"
   ]
  },
  {
   "cell_type": "code",
   "execution_count": 185,
   "metadata": {},
   "outputs": [],
   "source": [
    "res = network.search_for_track(track_name='goffa lolita', artist_name='')"
   ]
  },
  {
   "cell_type": "code",
   "execution_count": 186,
   "metadata": {},
   "outputs": [
    {
     "name": "stdout",
     "output_type": "stream",
     "text": [
      "number of results: 17\n",
      "La petite culotte - La goffa Lolita, La petite culotte - La goffa Lolita - Single\n",
      "Zolphaga - la goffa lolita, None\n",
      "La petite culotte - La Petite Culotte - La Goffa Lolita (Clip officiel), None\n",
      "La petite culotte - La Goffa Lolita (Extended Mix By Fuvi Clan), None\n",
      "La petite culotte - 79. La goffa Lolita, None\n"
     ]
    }
   ],
   "source": [
    "print(f'number of results: {res.get_total_result_count()}')\n",
    "for track in res.get_next_page()[:5]:\n",
    "    print(f'{track.get_artist()} - {track.get_title()}, {track.get_album()}')"
   ]
  },
  {
   "cell_type": "code",
   "execution_count": 49,
   "metadata": {},
   "outputs": [
    {
     "data": {
      "text/plain": [
       "pylast.Track('La petite culotte', '79. La goffa Lolita', pylast.LastFMNetwork('ff5bb5f50b5f9124103c5f87ffb47da4', '1033b32428004de56e78980f44b0d83e', 'TD-LnGeLZsGEmTu36mwLE9E_x1ZaC7Nq', 'jordyBo', '3fdaf427a5a6e0613311c63cf877d76a'))"
      ]
     },
     "execution_count": 49,
     "metadata": {},
     "output_type": "execute_result"
    }
   ],
   "source": [
    "track.get_\n",
    "# network.get_artist(artist_name=track.get_artist())"
   ]
  },
  {
   "attachments": {},
   "cell_type": "markdown",
   "metadata": {},
   "source": [
    "## SQLIT3"
   ]
  },
  {
   "cell_type": "code",
   "execution_count": 192,
   "metadata": {},
   "outputs": [],
   "source": [
    "import sqlite3"
   ]
  },
  {
   "cell_type": "code",
   "execution_count": 2,
   "metadata": {},
   "outputs": [
    {
     "data": {
      "text/plain": [
       "<sqlite3.Cursor at 0x28954d9dcc0>"
      ]
     },
     "execution_count": 2,
     "metadata": {},
     "output_type": "execute_result"
    }
   ],
   "source": [
    "# run this if table deleted\n",
    "con = sqlite3.connect(\"songs.db\")\n",
    "cur = con.cursor()\n",
    "cur.execute(\"CREATE TABLE songs(title, score)\")"
   ]
  },
  {
   "cell_type": "code",
   "execution_count": 3,
   "metadata": {},
   "outputs": [],
   "source": [
    "# run this to add a new entry a table that already exist\n",
    "con = sqlite3.connect(\"songs.db\")\n",
    "cur = con.cursor()\n",
    "data =[\n",
    "    ('a la queuleuleu', 3),\n",
    "    ('tourner les serviettes', 1),\n",
    "    ('Happy - Pharrell', 12),\n",
    "    ('Beautiful Day - U2', 8),\n",
    "    ('Party Rock Anthem', 3)\n",
    "]\n",
    "cur.executemany(\"INSERT INTO songs VALUES(?, ?)\", data)\n",
    "con.commit()  # Remember to commit the transaction after executing INSERT."
   ]
  },
  {
   "cell_type": "code",
   "execution_count": 4,
   "metadata": {},
   "outputs": [
    {
     "data": {
      "text/plain": [
       "[('Happy - Pharrell', 5),\n",
       " ('Beautiful Day - U2', 4),\n",
       " ('a la queuleuleu', 3),\n",
       " ('Party Rock Anthem', 3),\n",
       " ('tourner les serviettes', 1)]"
      ]
     },
     "execution_count": 4,
     "metadata": {},
     "output_type": "execute_result"
    }
   ],
   "source": [
    "# retrieve all songs\n",
    "con = sqlite3.connect(\"songs.db\")\n",
    "cur = con.cursor()\n",
    "res = cur.execute(\"SELECT * FROM songs ORDER BY score DESC\")\n",
    "lst = res.fetchall()\n",
    "lst"
   ]
  },
  {
   "cell_type": "code",
   "execution_count": 194,
   "metadata": {},
   "outputs": [
    {
     "ename": "OperationalError",
     "evalue": "no such column: score",
     "output_type": "error",
     "traceback": [
      "\u001b[1;31m---------------------------------------------------------------------------\u001b[0m",
      "\u001b[1;31mOperationalError\u001b[0m                          Traceback (most recent call last)",
      "Cell \u001b[1;32mIn[194], line 7\u001b[0m\n\u001b[0;32m      4\u001b[0m con \u001b[39m=\u001b[39m sqlite3\u001b[39m.\u001b[39mconnect(\u001b[39m\"\u001b[39m\u001b[39msongs.db\u001b[39m\u001b[39m\"\u001b[39m)\n\u001b[0;32m      5\u001b[0m cur \u001b[39m=\u001b[39m con\u001b[39m.\u001b[39mcursor()\n\u001b[1;32m----> 7\u001b[0m res \u001b[39m=\u001b[39m cur\u001b[39m.\u001b[39;49mexecute(\u001b[39mf\u001b[39;49m\u001b[39m\"\"\"\u001b[39;49m\u001b[39mSELECT score where title = \u001b[39;49m\u001b[39m\"\u001b[39;49m\u001b[39m{\u001b[39;49;00msong\u001b[39m}\u001b[39;49;00m\u001b[39m\"\u001b[39;49m\u001b[39m \u001b[39;49m\u001b[39m\"\"\"\u001b[39;49m)\n\u001b[0;32m      8\u001b[0m fet \u001b[39m=\u001b[39m res\u001b[39m.\u001b[39mfetchall()\n\u001b[0;32m      9\u001b[0m \u001b[39mprint\u001b[39m(fet)\n",
      "\u001b[1;31mOperationalError\u001b[0m: no such column: score"
     ]
    }
   ],
   "source": [
    "## ADD ONE POINT TO A CERTAIN SONG\n",
    "song = 'Beautiful Day - U2'\n",
    "\n",
    "con = sqlite3.connect(\"songs.db\")\n",
    "cur = con.cursor()\n",
    "\n",
    "res = cur.execute(f\"\"\"SELECT score where title = \"{song}\" \"\"\")\n",
    "fetone = res.fetchone()\n",
    "print(fetone)\n",
    "\n",
    "# sql_update_query = \"\"\"Update SqliteDb_developers set salary = ? where id = ?\"\"\"\n",
    "# data = (salary, id)\n",
    "# cursor.execute(sql_update_query, data)\n",
    "# sqliteConnection.commit()\n",
    "\n",
    "con.close()"
   ]
  },
  {
   "cell_type": "code",
   "execution_count": 4,
   "metadata": {},
   "outputs": [],
   "source": [
    "con.close()"
   ]
  },
  {
   "attachments": {},
   "cell_type": "markdown",
   "metadata": {},
   "source": [
    "## Autensemble calcul"
   ]
  },
  {
   "cell_type": "code",
   "execution_count": 165,
   "metadata": {},
   "outputs": [],
   "source": [
    "from datetime import datetime, date, timedelta\n",
    "import math"
   ]
  },
  {
   "cell_type": "code",
   "execution_count": 118,
   "metadata": {},
   "outputs": [
    {
     "name": "stdout",
     "output_type": "stream",
     "text": [
      "1st kiss année des 19 ans, Autensemble: 04/06/2024\n",
      "1st kiss année des 18 ans, Autensemble: 04/06/2023\n",
      "si on coupe la poire en 2: 04/12/2023\n"
     ]
    }
   ],
   "source": [
    "date1 = '1986-04-16'\n",
    "date2 = '1987-04-10'\n",
    "kiss_date = '2005-06-04'\n",
    "\n",
    "date1_obj = datetime.strptime(date1, '%Y-%m-%d')\n",
    "date2_obj = datetime.strptime(date2, '%Y-%m-%d')\n",
    "date_kiss_obj = datetime.strptime(kiss_date, '%Y-%m-%d')\n",
    "\n",
    "age_at_kiss1_sec = (date_kiss_obj - date1_obj).total_seconds()\n",
    "age_at_kiss2_sec = (date_kiss_obj - date2_obj).total_seconds()\n",
    "age_at_kiss1_year = round(age_at_kiss1_sec / 60 / 60 / 24 / 365.25)\n",
    "age_at_kiss2_year = round(age_at_kiss2_sec / 60 / 60 / 24 / 365.25)\n",
    "\n",
    "# Aut1 = date1_obj + timedelta(seconds=2*age_at_kiss1_sec)\n",
    "# Aut2 = date1_obj + timedelta(seconds=2*age_at_kiss2_sec)\n",
    "\n",
    "Aut1 = date_kiss_obj + timedelta(seconds=round(age_at_kiss1_year) * 60*60*24*365.265)\n",
    "Aut2 = date_kiss_obj + timedelta(seconds=round(age_at_kiss2_year) * 60*60*24*365.265)\n",
    "\n",
    "print(f\"1st kiss année des {age_at_kiss1_year} ans, Autensemble: {Aut1.strftime('%d/%m/%Y')}\")\n",
    "print(f\"1st kiss année des {age_at_kiss2_year} ans, Autensemble: {Aut2.strftime('%d/%m/%Y')}\")\n",
    "\n",
    "poire_en_2_diff_sec = (max(Aut1, Aut2) - min(Aut1, Aut2)).total_seconds()/2\n",
    "poire_en_2_date_str = (min(Aut1, Aut2) + timedelta(seconds=poire_en_2_diff_sec)).date().strftime('%d/%m/%Y')\n",
    "print(f'si on coupe la poire en 2: {poire_en_2_date_str}')"
   ]
  },
  {
   "cell_type": "code",
   "execution_count": 130,
   "metadata": {},
   "outputs": [
    {
     "name": "stdout",
     "output_type": "stream",
     "text": [
      "now:27/02/2023 aut:04/12/2023 - diff: -0.7665982203969883 years\n"
     ]
    }
   ],
   "source": [
    "AutCom_obj = (min(Aut1, Aut2) + timedelta(seconds=poire_en_2_diff_sec)).date()\n",
    "now = datetime.now().date()\n",
    "print(f\"now:{now.strftime('%d/%m/%Y')} aut:{AutCom_obj.strftime('%d/%m/%Y')} - diff: {(now - AutCom_obj).days/365.25} years\")"
   ]
  },
  {
   "cell_type": "code",
   "execution_count": 151,
   "metadata": {},
   "outputs": [
    {
     "data": {
      "text/plain": [
       "-280"
      ]
     },
     "execution_count": 151,
     "metadata": {},
     "output_type": "execute_result"
    }
   ],
   "source": [
    "(now - AutCom_obj).days"
   ]
  },
  {
   "cell_type": "code",
   "execution_count": 170,
   "metadata": {},
   "outputs": [],
   "source": [
    "def timedelta_to_years_days(delta):\n",
    "    if delta.days < 0:\n",
    "        fut_pass = 'futur'\n",
    "    else:\n",
    "        fut_pass = 'past'\n",
    "    years = math.floor(abs(delta.days / 365.25))\n",
    "    if years == 0:\n",
    "        year_or_days = 'days'\n",
    "        val = abs(delta.days)\n",
    "    else:\n",
    "        year_or_days = 'years'\n",
    "        val = years\n",
    "    return fut_pass, val, year_or_days "
   ]
  },
  {
   "cell_type": "code",
   "execution_count": 169,
   "metadata": {},
   "outputs": [
    {
     "data": {
      "text/plain": [
       "('futur', 'days', 280)"
      ]
     },
     "execution_count": 169,
     "metadata": {},
     "output_type": "execute_result"
    }
   ],
   "source": [
    "timedelta_to_years_days((now - AutCom_obj))"
   ]
  },
  {
   "cell_type": "code",
   "execution_count": 177,
   "metadata": {},
   "outputs": [
    {
     "name": "stdout",
     "output_type": "stream",
     "text": [
      "('past', 36, 'years')\n",
      "('futur', 7, 'years')\n",
      "('futur', 327, 'days')\n"
     ]
    }
   ],
   "source": [
    "# test on several dates\n",
    "date_compared = [\n",
    "    datetime.strptime('1986-04-16', '%Y-%m-%d').date(),\n",
    "    datetime.strptime('2030-05-20', '%Y-%m-%d').date(),\n",
    "    datetime.strptime('2024-01-20', '%Y-%m-%d').date(),\n",
    "]\n",
    "for date in date_compared:\n",
    "    print(timedelta_to_years_days((datetime.now().date() - date)))"
   ]
  },
  {
   "attachments": {},
   "cell_type": "markdown",
   "metadata": {},
   "source": [
    "## other tests"
   ]
  },
  {
   "cell_type": "code",
   "execution_count": 190,
   "metadata": {},
   "outputs": [
    {
     "data": {
      "text/plain": [
       "False"
      ]
     },
     "execution_count": 190,
     "metadata": {},
     "output_type": "execute_result"
    }
   ],
   "source": [
    "a = [None, None, None, None]\n",
    "any(a)"
   ]
  }
 ],
 "metadata": {
  "kernelspec": {
   "display_name": ".venv",
   "language": "python",
   "name": "python3"
  },
  "language_info": {
   "codemirror_mode": {
    "name": "ipython",
    "version": 3
   },
   "file_extension": ".py",
   "mimetype": "text/x-python",
   "name": "python",
   "nbconvert_exporter": "python",
   "pygments_lexer": "ipython3",
   "version": "3.10.2"
  },
  "orig_nbformat": 4,
  "vscode": {
   "interpreter": {
    "hash": "aec1141e0b266c184a1fda0105019239c4e7989f1e762466d1b5a2b419ce3214"
   }
  }
 },
 "nbformat": 4,
 "nbformat_minor": 2
}
